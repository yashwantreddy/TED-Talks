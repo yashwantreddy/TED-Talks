{
 "cells": [
  {
   "cell_type": "code",
   "execution_count": 6,
   "metadata": {},
   "outputs": [],
   "source": [
    "import pandas as pd\n",
    "import numpy as np\n",
    "import nltk\n",
    "import re"
   ]
  },
  {
   "cell_type": "code",
   "execution_count": 2,
   "metadata": {},
   "outputs": [],
   "source": [
    "df = pd.read_pickle('ted.pkl')"
   ]
  },
  {
   "cell_type": "code",
   "execution_count": 3,
   "metadata": {},
   "outputs": [
    {
     "data": {
      "text/html": [
       "<div>\n",
       "<style>\n",
       "    .dataframe thead tr:only-child th {\n",
       "        text-align: right;\n",
       "    }\n",
       "\n",
       "    .dataframe thead th {\n",
       "        text-align: left;\n",
       "    }\n",
       "\n",
       "    .dataframe tbody tr th {\n",
       "        vertical-align: top;\n",
       "    }\n",
       "</style>\n",
       "<table border=\"1\" class=\"dataframe\">\n",
       "  <thead>\n",
       "    <tr style=\"text-align: right;\">\n",
       "      <th></th>\n",
       "      <th>Content</th>\n",
       "      <th>Title</th>\n",
       "    </tr>\n",
       "  </thead>\n",
       "  <tbody>\n",
       "    <tr>\n",
       "      <th>0</th>\n",
       "      <td>You've heard of your I.Q., your general intell...</td>\n",
       "      <td>10_myths_about_psychology_debunked_Ben_Ambridg...</td>\n",
       "    </tr>\n",
       "    <tr>\n",
       "      <th>1</th>\n",
       "      <td>Alright. I'm going to show you a couple of ima...</td>\n",
       "      <td>10_things_you_didn't_know_about_orgasm_Mary_Ro...</td>\n",
       "    </tr>\n",
       "    <tr>\n",
       "      <th>2</th>\n",
       "      <td>Translator: Joseph Geni Reviewer: Morton Bast ...</td>\n",
       "      <td>10_top_time_saving_tech_tips_David_Pogue.md</td>\n",
       "    </tr>\n",
       "    <tr>\n",
       "      <th>3</th>\n",
       "      <td>All right, I want to see a show of hands: how ...</td>\n",
       "      <td>10_ways_to_have_a_better_conversation_Celeste_...</td>\n",
       "    </tr>\n",
       "    <tr>\n",
       "      <th>4</th>\n",
       "      <td>It is a thrill to be here at a conference that...</td>\n",
       "      <td>12_sustainable_design_ideas_from_nature_Janine...</td>\n",
       "    </tr>\n",
       "  </tbody>\n",
       "</table>\n",
       "</div>"
      ],
      "text/plain": [
       "                                             Content  \\\n",
       "0  You've heard of your I.Q., your general intell...   \n",
       "1  Alright. I'm going to show you a couple of ima...   \n",
       "2  Translator: Joseph Geni Reviewer: Morton Bast ...   \n",
       "3  All right, I want to see a show of hands: how ...   \n",
       "4  It is a thrill to be here at a conference that...   \n",
       "\n",
       "                                               Title  \n",
       "0  10_myths_about_psychology_debunked_Ben_Ambridg...  \n",
       "1  10_things_you_didn't_know_about_orgasm_Mary_Ro...  \n",
       "2        10_top_time_saving_tech_tips_David_Pogue.md  \n",
       "3  10_ways_to_have_a_better_conversation_Celeste_...  \n",
       "4  12_sustainable_design_ideas_from_nature_Janine...  "
      ]
     },
     "execution_count": 3,
     "metadata": {},
     "output_type": "execute_result"
    }
   ],
   "source": [
    "df.head()"
   ]
  },
  {
   "cell_type": "code",
   "execution_count": 4,
   "metadata": {},
   "outputs": [],
   "source": [
    "from nltk.corpus import stopwords\n",
    "stop = set(stopwords.words('english'))\n",
    "NOUNS = ['NN', 'NNS', 'NNP', 'NNPS']"
   ]
  },
  {
   "cell_type": "code",
   "execution_count": 23,
   "metadata": {},
   "outputs": [],
   "source": [
    "words = nltk.tokenize.word_tokenize(document)\n",
    "words = [word.lower() for word in words if word not in stop]\n",
    "fdist = nltk.FreqDist(words)\n",
    "most_freq_nouns = [w for w, c in fdist.most_common(10)\n",
    "                   if nltk.pos_tag([w])[0][1] in NOUNS]"
   ]
  },
  {
   "cell_type": "code",
   "execution_count": 24,
   "metadata": {},
   "outputs": [
    {
     "data": {
      "text/plain": [
       "['energy', 'i', 'people', 'year']"
      ]
     },
     "execution_count": 24,
     "metadata": {},
     "output_type": "execute_result"
    }
   ],
   "source": [
    "most_freq_nouns"
   ]
  },
  {
   "cell_type": "code",
   "execution_count": 25,
   "metadata": {},
   "outputs": [],
   "source": [
    "sentences = nltk.sent_tokenize(document)\n",
    "sentences = [nltk.word_tokenize(sent) for sent in sentences]"
   ]
  },
  {
   "cell_type": "code",
   "execution_count": 26,
   "metadata": {},
   "outputs": [],
   "source": [
    "entities = []\n",
    "sentences = [nltk.pos_tag(sent) for sent in sentences]\n",
    "for tagged_sentence in sentences:\n",
    "    for chunk in nltk.ne_chunk(tagged_sentence):\n",
    "        if type(chunk) == nltk.tree.Tree:\n",
    "            entities.append(' '.join([c[0] for c in chunk]).lower())"
   ]
  },
  {
   "cell_type": "code",
   "execution_count": 27,
   "metadata": {},
   "outputs": [],
   "source": [
    "top_10_entities = [w for w, c in nltk.FreqDist(entities).most_common(10)]\n",
    "\n",
    "# Get the subject noun by looking at the intersection of top 10 entities\n",
    "# and most frequent nouns. It takes the first element in the list\n",
    "subject_nouns = [entity for entity in top_10_entities\n",
    "                    if entity.split()[0] in most_freq_nouns]"
   ]
  },
  {
   "cell_type": "code",
   "execution_count": 28,
   "metadata": {},
   "outputs": [
    {
     "data": {
      "text/plain": [
       "[]"
      ]
     },
     "execution_count": 28,
     "metadata": {},
     "output_type": "execute_result"
    }
   ],
   "source": [
    "subject_nouns"
   ]
  },
  {
   "cell_type": "code",
   "execution_count": 29,
   "metadata": {},
   "outputs": [],
   "source": [
    "# Everything above this comment is copy pasted code. So I wanna really code it myself and understand the inner workings."
   ]
  },
  {
   "cell_type": "code",
   "execution_count": 35,
   "metadata": {},
   "outputs": [],
   "source": [
    "#Lets get out document."
   ]
  },
  {
   "cell_type": "code",
   "execution_count": 57,
   "metadata": {},
   "outputs": [],
   "source": [
    "document = df.Content.iloc[7]"
   ]
  },
  {
   "cell_type": "code",
   "execution_count": 58,
   "metadata": {},
   "outputs": [],
   "source": [
    "#Let's make a function to clean it"
   ]
  },
  {
   "cell_type": "code",
   "execution_count": 59,
   "metadata": {},
   "outputs": [],
   "source": [
    "def clean_doc(doc):\n",
    "    doc = re.sub('[^A-Za-z .-]+', ' ', doc)\n",
    "    doc = ' '.join(doc.split())\n",
    "    doc = ' '.join([i for i in doc.split() if i not in stop])\n",
    "    return doc"
   ]
  },
  {
   "cell_type": "code",
   "execution_count": 60,
   "metadata": {},
   "outputs": [],
   "source": [
    "document = clean_doc(document)"
   ]
  },
  {
   "cell_type": "code",
   "execution_count": 61,
   "metadata": {},
   "outputs": [],
   "source": [
    "sent_tok = nltk.sent_tokenize(document)"
   ]
  },
  {
   "cell_type": "code",
   "execution_count": 62,
   "metadata": {},
   "outputs": [],
   "source": [
    "bow = []\n",
    "for sent in sent_tok:\n",
    "    bow.append(nltk.word_tokenize(sent))"
   ]
  },
  {
   "cell_type": "code",
   "execution_count": 49,
   "metadata": {},
   "outputs": [],
   "source": [
    "#bow is a bag of words list of lists where each list within bow is a sentence broken down into words without the stopwrods."
   ]
  },
  {
   "cell_type": "code",
   "execution_count": 63,
   "metadata": {},
   "outputs": [
    {
     "data": {
      "text/plain": [
       "['I',\n",
       " 'want',\n",
       " 'us',\n",
       " 'start',\n",
       " 'thinking',\n",
       " 'device',\n",
       " 'phone',\n",
       " 'likely',\n",
       " 'pockets',\n",
       " 'right',\n",
       " 'now',\n",
       " '.']"
      ]
     },
     "execution_count": 63,
     "metadata": {},
     "output_type": "execute_result"
    }
   ],
   "source": [
    "bow[0]"
   ]
  },
  {
   "cell_type": "code",
   "execution_count": 64,
   "metadata": {},
   "outputs": [],
   "source": [
    "fdist = nltk.FreqDist(bow[0])"
   ]
  },
  {
   "cell_type": "code",
   "execution_count": 65,
   "metadata": {},
   "outputs": [
    {
     "data": {
      "text/plain": [
       "FreqDist({'.': 1,\n",
       "          'I': 1,\n",
       "          'device': 1,\n",
       "          'likely': 1,\n",
       "          'now': 1,\n",
       "          'phone': 1,\n",
       "          'pockets': 1,\n",
       "          'right': 1,\n",
       "          'start': 1,\n",
       "          'thinking': 1,\n",
       "          'us': 1,\n",
       "          'want': 1})"
      ]
     },
     "execution_count": 65,
     "metadata": {},
     "output_type": "execute_result"
    }
   ],
   "source": [
    "fdist"
   ]
  },
  {
   "cell_type": "code",
   "execution_count": 54,
   "metadata": {},
   "outputs": [],
   "source": [
    "#Here Fdist basically makes a dictionary of the word counts present. Lets iterate that through our entire bag of words."
   ]
  },
  {
   "cell_type": "code",
   "execution_count": 66,
   "metadata": {},
   "outputs": [],
   "source": [
    "document = clean_doc(document)"
   ]
  },
  {
   "cell_type": "code",
   "execution_count": 69,
   "metadata": {},
   "outputs": [],
   "source": [
    "word_tok = nltk.word_tokenize(document)"
   ]
  },
  {
   "cell_type": "code",
   "execution_count": 84,
   "metadata": {},
   "outputs": [],
   "source": [
    "#The code below removes punctuation"
   ]
  },
  {
   "cell_type": "code",
   "execution_count": 80,
   "metadata": {},
   "outputs": [],
   "source": [
    "k=[]\n",
    "for word in word_tok:\n",
    "    if word.isalpha():\n",
    "        k.append(word)"
   ]
  },
  {
   "cell_type": "code",
   "execution_count": 82,
   "metadata": {},
   "outputs": [],
   "source": [
    "fdist = nltk.FreqDist(k)"
   ]
  },
  {
   "cell_type": "code",
   "execution_count": 85,
   "metadata": {},
   "outputs": [],
   "source": [
    "#printing out the top 10 words in the document"
   ]
  },
  {
   "cell_type": "code",
   "execution_count": 83,
   "metadata": {},
   "outputs": [
    {
     "name": "stdout",
     "output_type": "stream",
     "text": [
      "I\n",
      "And\n",
      "kids\n",
      "children\n",
      "But\n",
      "games\n",
      "us\n",
      "screens\n",
      "could\n",
      "going\n"
     ]
    }
   ],
   "source": [
    "for i,v in fdist.most_common(10):\n",
    "    print(i)"
   ]
  },
  {
   "cell_type": "code",
   "execution_count": null,
   "metadata": {},
   "outputs": [],
   "source": []
  }
 ],
 "metadata": {
  "kernelspec": {
   "display_name": "Python 3",
   "language": "python",
   "name": "python3"
  }
 },
 "nbformat": 4,
 "nbformat_minor": 2
}
