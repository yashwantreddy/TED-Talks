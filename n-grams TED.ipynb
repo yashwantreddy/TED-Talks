{
 "cells": [
  {
   "cell_type": "code",
   "execution_count": 2,
   "metadata": {},
   "outputs": [],
   "source": [
    "import nltk\n",
    "from nltk import word_tokenize\n",
    "from nltk.util import ngrams\n",
    "from collections import Counter\n",
    "import pandas as pd\n",
    "import numpy as np\n",
    "from markdown import markdown\n",
    "from bs4 import BeautifulSoup\n",
    "import glob, os\n",
    "from os import path\n",
    "import matplotlib.pyplot as plt\n",
    "import seaborn as sns\n",
    "%matplotlib inline"
   ]
  },
  {
   "cell_type": "code",
   "execution_count": 4,
   "metadata": {},
   "outputs": [],
   "source": [
    "df =pd.read_pickle('ted.pkl')"
   ]
  },
  {
   "cell_type": "code",
   "execution_count": 5,
   "metadata": {},
   "outputs": [
    {
     "name": "stdout",
     "output_type": "stream",
     "text": [
      "<class 'pandas.core.frame.DataFrame'>\n",
      "RangeIndex: 2498 entries, 0 to 2497\n",
      "Data columns (total 2 columns):\n",
      "Content    2498 non-null object\n",
      "Title      2498 non-null object\n",
      "dtypes: object(2)\n",
      "memory usage: 39.1+ KB\n"
     ]
    }
   ],
   "source": [
    "df.info()"
   ]
  },
  {
   "cell_type": "code",
   "execution_count": 25,
   "metadata": {},
   "outputs": [],
   "source": [
    "lst= []\n",
    "for i in range(len(df.Content)):\n",
    "    text = df.Content.iloc[i]\n",
    "    token = nltk.word_tokenize(text)\n",
    "    #bigrams = ngrams(token,2)\n",
    "    trigrams = ngrams(token,3)\n",
    "    fourgrams = ngrams(token,4)\n",
    "    fivegrams = ngrams(token,5)\n",
    "\n",
    "    lst.append(Counter(fourgrams).most_common(5))"
   ]
  },
  {
   "cell_type": "code",
   "execution_count": 26,
   "metadata": {},
   "outputs": [
    {
     "data": {
      "text/plain": [
       "2498"
      ]
     },
     "execution_count": 26,
     "metadata": {},
     "output_type": "execute_result"
    }
   ],
   "source": [
    "len(lst)"
   ]
  },
  {
   "cell_type": "code",
   "execution_count": 27,
   "metadata": {},
   "outputs": [
    {
     "data": {
      "text/plain": [
       "[(('you', 'think', 'they', \"'re\"), 5),\n",
       " (('if', 'you', 'think', 'they'), 4),\n",
       " (('is', 'that', 'listening', 'to'), 4),\n",
       " (('that', 'listening', 'to', 'Mozart'), 4),\n",
       " (('when', 'it', 'comes', 'to'), 3)]"
      ]
     },
     "execution_count": 27,
     "metadata": {},
     "output_type": "execute_result"
    }
   ],
   "source": [
    "lst[0]"
   ]
  },
  {
   "cell_type": "code",
   "execution_count": 29,
   "metadata": {},
   "outputs": [
    {
     "data": {
      "text/plain": [
       "[(('?', 'Have', 'you', 'ever'), 12),\n",
       " (('.', 'Have', 'you', 'ever'), 10),\n",
       " (('?', '(', 'Laughter', ')'), 4),\n",
       " ((',', 'it', \"'s\", 'safe'), 2),\n",
       " (('it', \"'s\", 'safe', 'here'), 2)]"
      ]
     },
     "execution_count": 29,
     "metadata": {},
     "output_type": "execute_result"
    }
   ],
   "source": [
    "lst[-2]"
   ]
  },
  {
   "cell_type": "code",
   "execution_count": null,
   "metadata": {},
   "outputs": [],
   "source": []
  }
 ],
 "metadata": {
  "kernelspec": {
   "display_name": "Python 3",
   "language": "python",
   "name": "python3"
  },
  "language_info": {
   "codemirror_mode": {
    "name": "ipython",
    "version": 3
   },
   "file_extension": ".py",
   "mimetype": "text/x-python",
   "name": "python",
   "nbconvert_exporter": "python",
   "pygments_lexer": "ipython3",
   "version": "3.6.1"
  }
 },
 "nbformat": 4,
 "nbformat_minor": 2
}
