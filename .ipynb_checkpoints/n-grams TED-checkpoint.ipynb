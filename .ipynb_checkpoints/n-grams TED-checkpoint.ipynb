{
 "cells": [
  {
   "cell_type": "code",
   "execution_count": 10,
   "metadata": {},
   "outputs": [],
   "source": [
    "import nltk\n",
    "from nltk import word_tokenize\n",
    "from nltk.util import ngrams\n",
    "from collections import Counter\n",
    "import pandas as pd\n",
    "import numpy as np\n",
    "from markdown import markdown\n",
    "from bs4 import BeautifulSoup\n",
    "import glob, os\n",
    "from os import path\n",
    "import matplotlib.pyplot as plt\n",
    "import seaborn as sns\n",
    "from nltk.corpus import stopwords\n",
    "import re\n",
    "\n",
    "stop = set(stopwords.words('english'))\n",
    "%matplotlib inline"
   ]
  },
  {
   "cell_type": "code",
   "execution_count": 3,
   "metadata": {},
   "outputs": [],
   "source": [
    "df =pd.read_pickle('ted.pkl')"
   ]
  },
  {
   "cell_type": "code",
   "execution_count": 4,
   "metadata": {},
   "outputs": [
    {
     "name": "stdout",
     "output_type": "stream",
     "text": [
      "<class 'pandas.core.frame.DataFrame'>\n",
      "RangeIndex: 2498 entries, 0 to 2497\n",
      "Data columns (total 2 columns):\n",
      "Content    2498 non-null object\n",
      "Title      2498 non-null object\n",
      "dtypes: object(2)\n",
      "memory usage: 39.1+ KB\n"
     ]
    }
   ],
   "source": [
    "df.info()"
   ]
  },
  {
   "cell_type": "code",
   "execution_count": 11,
   "metadata": {},
   "outputs": [],
   "source": [
    "def clean_doc(doc):\n",
    "    doc = re.sub('[^A-Za-z .-]+', ' ', doc)\n",
    "    doc = ' '.join(doc.split())\n",
    "    doc = ' '.join([i for i in doc.split() if i not in stop])\n",
    "    return doc"
   ]
  },
  {
   "cell_type": "code",
   "execution_count": 18,
   "metadata": {},
   "outputs": [],
   "source": [
    "lst=[]\n",
    "for i in range(len(df.Content)):\n",
    "    text = nltk.word_tokenize(df.Content.iloc[i])\n",
    "    text = clean_doc(text)\n",
    "    token = nltk.word_tokenize(text)        \n",
    "    k=[]\n",
    "    for word in token:\n",
    "        if word.isalpha():\n",
    "            k.append(word)\n",
    "\n",
    "    trigrams = ngrams(k,3)\n",
    "            #fourgrams = ngrams(token,4)\n",
    "            #fivegrams = ngrams(token,5)\n",
    "\n",
    "    lst.append(Counter(trigrams).most_common(5))"
   ]
  },
  {
   "cell_type": "code",
   "execution_count": 19,
   "metadata": {},
   "outputs": [
    {
     "data": {
      "text/plain": [
       "2498"
      ]
     },
     "execution_count": 19,
     "metadata": {},
     "output_type": "execute_result"
    }
   ],
   "source": [
    "len(lst)"
   ]
  },
  {
   "cell_type": "code",
   "execution_count": 24,
   "metadata": {},
   "outputs": [
    {
     "data": {
      "text/plain": [
       "[(('two', 'terawatt', 'hours'), 5),\n",
       " (('paying', 'attention', 'energy'), 3),\n",
       " (('air', 'conditioning', 'turn'), 3),\n",
       " (('conditioning', 'turn', 'fans'), 3),\n",
       " (('Anybody', 'check', 'today'), 2)]"
      ]
     },
     "execution_count": 24,
     "metadata": {},
     "output_type": "execute_result"
    }
   ],
   "source": [
    "lst[69]"
   ]
  },
  {
   "cell_type": "code",
   "execution_count": 25,
   "metadata": {},
   "outputs": [
    {
     "data": {
      "text/plain": [
       "[(('million', 'years', 'ago'), 7),\n",
       " (('makes', 'us', 'human'), 4),\n",
       " (('looked', 'like', 'behaved'), 3),\n",
       " (('three', 'million', 'years'), 3),\n",
       " (('past', 'six', 'million'), 2)]"
      ]
     },
     "execution_count": 25,
     "metadata": {},
     "output_type": "execute_result"
    }
   ],
   "source": [
    "lst[-5]"
   ]
  },
  {
   "cell_type": "code",
   "execution_count": 37,
   "metadata": {},
   "outputs": [
    {
     "data": {
      "text/plain": [
       "[(('It', 'gave', 'sense'), 2),\n",
       " (('gave', 'sense', 'I'), 2),\n",
       " (('redemptive', 'value', 'relevancy'), 2),\n",
       " (('She', 'wrote', 'When'), 1),\n",
       " (('wrote', 'When', 'I'), 1)]"
      ]
     },
     "execution_count": 37,
     "metadata": {},
     "output_type": "execute_result"
    }
   ],
   "source": [
    "lst[100]"
   ]
  },
  {
   "cell_type": "code",
   "execution_count": null,
   "metadata": {},
   "outputs": [],
   "source": []
  }
 ],
 "metadata": {
  "kernelspec": {
   "display_name": "Python 3",
   "language": "python",
   "name": "python3"
  },
  "language_info": {
   "codemirror_mode": {
    "name": "ipython",
    "version": 3
   },
   "file_extension": ".py",
   "mimetype": "text/x-python",
   "name": "python",
   "nbconvert_exporter": "python",
   "pygments_lexer": "ipython3",
   "version": "3.6.1"
  }
 },
 "nbformat": 4,
 "nbformat_minor": 2
}
